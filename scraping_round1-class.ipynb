{
 "cells": [
  {
   "cell_type": "code",
   "execution_count": 1,
   "id": "0fe57f4c-8713-4718-9430-ebb81d405eb8",
   "metadata": {
    "collapsed": true,
    "jupyter": {
     "outputs_hidden": true
    },
    "tags": []
   },
   "outputs": [
    {
     "name": "stdout",
     "output_type": "stream",
     "text": [
      "Requirement already satisfied: pandas in c:\\users\\kazum\\anaconda3\\lib\\site-packages (1.4.4)\n",
      "Requirement already satisfied: python-dateutil>=2.8.1 in c:\\users\\kazum\\anaconda3\\lib\\site-packages (from pandas) (2.8.2)\n",
      "Requirement already satisfied: numpy>=1.18.5 in c:\\users\\kazum\\anaconda3\\lib\\site-packages (from pandas) (1.21.5)\n",
      "Requirement already satisfied: pytz>=2020.1 in c:\\users\\kazum\\anaconda3\\lib\\site-packages (from pandas) (2022.1)\n",
      "Requirement already satisfied: six>=1.5 in c:\\users\\kazum\\anaconda3\\lib\\site-packages (from python-dateutil>=2.8.1->pandas) (1.16.0)\n",
      "Requirement already satisfied: beautifulsoup4 in c:\\users\\kazum\\anaconda3\\lib\\site-packages (4.11.1)\n",
      "Requirement already satisfied: soupsieve>1.2 in c:\\users\\kazum\\anaconda3\\lib\\site-packages (from beautifulsoup4) (2.3.1)\n",
      "Collecting selenium\n",
      "  Downloading selenium-4.8.0-py3-none-any.whl (6.3 MB)\n",
      "     ---------------------------------------- 6.3/6.3 MB 10.1 MB/s eta 0:00:00\n",
      "Collecting trio-websocket~=0.9\n",
      "  Downloading trio_websocket-0.9.2-py3-none-any.whl (16 kB)\n",
      "Requirement already satisfied: certifi>=2021.10.8 in c:\\users\\kazum\\anaconda3\\lib\\site-packages (from selenium) (2022.9.14)\n",
      "Requirement already satisfied: urllib3[socks]~=1.26 in c:\\users\\kazum\\anaconda3\\lib\\site-packages (from selenium) (1.26.11)\n",
      "Collecting trio~=0.17\n",
      "  Downloading trio-0.22.0-py3-none-any.whl (384 kB)\n",
      "     ------------------------------------- 384.9/384.9 kB 12.1 MB/s eta 0:00:00\n",
      "Collecting outcome\n",
      "  Downloading outcome-1.2.0-py2.py3-none-any.whl (9.7 kB)\n",
      "Requirement already satisfied: attrs>=19.2.0 in c:\\users\\kazum\\anaconda3\\lib\\site-packages (from trio~=0.17->selenium) (21.4.0)\n",
      "Requirement already satisfied: sortedcontainers in c:\\users\\kazum\\anaconda3\\lib\\site-packages (from trio~=0.17->selenium) (2.4.0)\n",
      "Collecting exceptiongroup>=1.0.0rc9\n",
      "  Downloading exceptiongroup-1.1.0-py3-none-any.whl (14 kB)\n",
      "Requirement already satisfied: sniffio in c:\\users\\kazum\\anaconda3\\lib\\site-packages (from trio~=0.17->selenium) (1.2.0)\n",
      "Requirement already satisfied: cffi>=1.14 in c:\\users\\kazum\\anaconda3\\lib\\site-packages (from trio~=0.17->selenium) (1.15.1)\n",
      "Collecting async-generator>=1.9\n",
      "  Downloading async_generator-1.10-py3-none-any.whl (18 kB)\n",
      "Requirement already satisfied: idna in c:\\users\\kazum\\anaconda3\\lib\\site-packages (from trio~=0.17->selenium) (3.3)\n",
      "Collecting wsproto>=0.14\n",
      "  Downloading wsproto-1.2.0-py3-none-any.whl (24 kB)\n",
      "Requirement already satisfied: PySocks!=1.5.7,<2.0,>=1.5.6 in c:\\users\\kazum\\anaconda3\\lib\\site-packages (from urllib3[socks]~=1.26->selenium) (1.7.1)\n",
      "Requirement already satisfied: pycparser in c:\\users\\kazum\\anaconda3\\lib\\site-packages (from cffi>=1.14->trio~=0.17->selenium) (2.21)\n",
      "Collecting h11<1,>=0.9.0\n",
      "  Downloading h11-0.14.0-py3-none-any.whl (58 kB)\n",
      "     ---------------------------------------- 58.3/58.3 kB ? eta 0:00:00\n",
      "Installing collected packages: outcome, h11, exceptiongroup, async-generator, wsproto, trio, trio-websocket, selenium\n",
      "Successfully installed async-generator-1.10 exceptiongroup-1.1.0 h11-0.14.0 outcome-1.2.0 selenium-4.8.0 trio-0.22.0 trio-websocket-0.9.2 wsproto-1.2.0\n"
     ]
    }
   ],
   "source": [
    "#必要ライブラリ\n",
    "# !pip install pandas\n",
    "# !pip install beautifulsoup4\n",
    "# !pip install selenium"
   ]
  },
  {
   "cell_type": "code",
   "execution_count": 1,
   "id": "85261673-33c4-4b8d-9a10-e1c47593b101",
   "metadata": {},
   "outputs": [],
   "source": [
    "import pandas as pd\n",
    "import time\n",
    "import os\n",
    "import re\n",
    "import glob\n",
    "from selenium import webdriver\n",
    "from selenium.webdriver.common.by import By\n",
    "from selenium.common.exceptions import NoSuchElementException"
   ]
  },
  {
   "cell_type": "code",
   "execution_count": 20,
   "id": "4219b19f-bd6d-4b34-8146-ea708af78138",
   "metadata": {},
   "outputs": [],
   "source": [
    "#タイム/取得ページ数設定\n",
    "waitTime=7\n",
    "itemNumber=100 #100が入る\n",
    "pageNumber=10 #何ページかが入る。多くてもあれなので10Pにしとく。後々は検索件数/100でわかる"
   ]
  },
  {
   "cell_type": "markdown",
   "id": "49cd53b2-697d-4324-945f-b6f3af42e5ce",
   "metadata": {},
   "source": [
    "▼まずは各項目を取得する関数を定義（わざわざ関数にしなくても良いけど後々楽になる）"
   ]
  },
  {
   "cell_type": "code",
   "execution_count": 76,
   "id": "a19a4c1e-780a-47bf-9237-d28902588207",
   "metadata": {
    "tags": []
   },
   "outputs": [],
   "source": [
    "#部屋名リスト取得(xpath利用)後々欠損値が出た時のためにこちらが有利\n",
    "def get_roomName():\n",
    "    roomNames_text=[]\n",
    "    roomNames=driver.find_elements(By.CLASS_NAME, \"js-cassetLinkHref\")\n",
    "    for i in range(len(roomNames)):\n",
    "        roomNames_text.append(roomNames[i].text.replace(\"\\u3000\",\"\"))\n",
    "    return roomNames_text"
   ]
  },
  {
   "cell_type": "code",
   "execution_count": 87,
   "id": "e4dbd142-4849-41b9-9f6c-9be65be774f0",
   "metadata": {},
   "outputs": [],
   "source": [
    "#家賃/管理費リスト取得(xpath利用)\n",
    "def get_roomPrice():\n",
    "    roomPrices_text=[]\n",
    "    roomPrices=driver.find_elements(By.CLASS_NAME, \"detailbox-property--col1\")\n",
    "    for i in range(len(roomPrices)):\n",
    "        roomPrices_text.append(roomPrices[i].text.replace(\"\\u3000\",\"\").replace('管理費','').replace(\"-\",\"0\").replace(\"万\",\"\").replace(\"円\",\"\").split('\\n')) #書き換え方がすごく乱暴な気もするがスプシに入れてから置換すると面倒なので先にやる \n",
    "    return roomPrices_text"
   ]
  },
  {
   "cell_type": "code",
   "execution_count": 79,
   "id": "a6593d01-d865-432a-82e3-cc572b54af56",
   "metadata": {},
   "outputs": [],
   "source": [
    "#間取り/専有面積/方角/種別/築年数リスト取得\n",
    "def get_roomArea():\n",
    "    roomAreas_text=[]\n",
    "    roomAreas=driver.find_elements(By.CLASS_NAME, \"detailbox-property--col3\")\n",
    "    for i in range(len(roomAreas)):\n",
    "        roomAreas_text.append(roomAreas[i].text.replace(\"\\u3000\",\"\").replace(\"m2\",\"\").replace(\"築\",\"\").replace(\"年\",\"\").replace(\"新\",\"0\").replace(\"以上\",\"\").split('\\n')) #新築は新と表示されるので0に書き換える。99年以上は99ということにする\n",
    "        roomAreas_text[i][1]=round(float(roomAreas_text[i][1]))\n",
    "    return roomAreas_text\n"
   ]
  },
  {
   "cell_type": "code",
   "execution_count": 73,
   "id": "494e71ba-9952-4827-b656-573ed4529b9a",
   "metadata": {
    "tags": []
   },
   "outputs": [
    {
     "data": {
      "text/plain": [
       "45"
      ]
     },
     "execution_count": 73,
     "metadata": {},
     "output_type": "execute_result"
    }
   ],
   "source": [
    "round(float(roomAreas[0][1]))"
   ]
  },
  {
   "cell_type": "code",
   "execution_count": 56,
   "id": "6a56759c-0224-4e3c-9a6f-8f9060723c14",
   "metadata": {},
   "outputs": [],
   "source": [
    "# サイトへのアクセス\n",
    "def get_website(url):\n",
    "    driver.get(url) #後でiに変更\n",
    "    time.sleep(waitTime)\n"
   ]
  },
  {
   "cell_type": "markdown",
   "id": "59922b7a-fff3-4f89-9f4a-358d68b98074",
   "metadata": {},
   "source": [
    "▼実際に情報を取得していく。\n",
    "１００件/ページ　ごとにリストを作成and更新していく。"
   ]
  },
  {
   "cell_type": "code",
   "execution_count": 80,
   "id": "6ef3b686-2567-4882-ad15-f252bebf34d1",
   "metadata": {
    "tags": []
   },
   "outputs": [
    {
     "name": "stderr",
     "output_type": "stream",
     "text": [
      "C:\\Users\\kazum\\AppData\\Local\\Temp\\ipykernel_9052\\3142931534.py:9: DeprecationWarning: executable_path has been deprecated, please pass in a Service object\n",
      "  driver = webdriver.Chrome(os.path.join(os.getcwd(), \"/chromedriver.exe\"))\n"
     ]
    }
   ],
   "source": [
    "#　SUUMO愛知県一宮市_賃貸_部屋ごとに表示_100件ずつ_最初のページ\n",
    "url= \"https://suumo.jp/jj/chintai/ichiran/FR301FC005/?ar=050&bs=040&ta=23&sc=23203&sngz=&po1=25&po2=99&pc=100\"\n",
    "#　2ページ目以降はurl末尾に&page=2をつければよい\n",
    "page_list=[url]\n",
    "for i in range(pageNumber):\n",
    "    i+=2\n",
    "    page_list.append(url+\"&page=\"+str(i))\n",
    "#　ブラウザ起動\n",
    "driver = webdriver.Chrome(os.path.join(os.getcwd(), \"/chromedriver.exe\"))\n",
    "time.sleep(waitTime)\n",
    "\n",
    "#メインの格納データフレームを作成\n",
    "#columns=[\"部屋名\",\"家賃\",\"専有面積\",\"間取り\"]\n",
    "\n",
    "roomNames=[]\n",
    "roomPrices=[]\n",
    "roomAreas=[]\n",
    "#　メイン実行\n",
    "for i in range(pageNumber):\n",
    "    get_website(page_list[i])\n",
    "    roomNames.extend(get_roomName())\n",
    "    roomPrices.extend(get_roomPrice())\n",
    "    roomAreas.extend(get_roomArea())"
   ]
  },
  {
   "cell_type": "markdown",
   "id": "54aac389-2837-4bb4-bd64-f2014f0025b9",
   "metadata": {},
   "source": [
    "▼作成したリストからデータフレーム（df）を作成していく。\n",
    "今回データの前処理はあえて行わず何のデータかわかりやすい形で出力することを目指す。<br>\n",
    "と思ったらスプシからデータを落としたときにReplaceがうまくできない事態が起きたのでスプシに入れる前に前処理をする。"
   ]
  },
  {
   "cell_type": "code",
   "execution_count": 81,
   "id": "3f4aa439-3895-49fd-a507-c8c8a67ab1a3",
   "metadata": {},
   "outputs": [],
   "source": [
    "#物件名のdf作成\n",
    "columns_roomNames=[\"物件名\"]\n",
    "df_roomNames=pd.DataFrame(roomNames,columns=columns_roomNames)"
   ]
  },
  {
   "cell_type": "code",
   "execution_count": 82,
   "id": "635a8601-9a51-4858-b0a4-b1f51415fda2",
   "metadata": {
    "tags": []
   },
   "outputs": [],
   "source": [
    "#roomAreasの中身がブロックごと２リストずつ作られてしまうのでを結合する\n",
    "#[\"間取り\",\"専有面積\"]+[\"方角\",\"種別\",\"築年数\"]\n",
    "roomAreas_unite=[]\n",
    "i=0\n",
    "while i<len(roomAreas):\n",
    "    roomAreas_unite.append(roomAreas[i]+roomAreas[i+1])\n",
    "    i+=2\n",
    "#間取り/専有面積/方角/種別/築年数のｄｆ作成\n",
    "columns_roomAreas=[\"間取り\",\"専有面積\",\"方角\",\"種別\",\"築年数\"]\n",
    "df_roomAreas=pd.DataFrame(roomAreas_unite,columns=columns_roomAreas)"
   ]
  },
  {
   "cell_type": "code",
   "execution_count": 83,
   "id": "3d2ad2f4-0088-49cd-8e4f-2dec0a26252c",
   "metadata": {
    "tags": []
   },
   "outputs": [],
   "source": [
    "#家賃/管理費のdf作成\n",
    "columns_roomPrices=[\"家賃\",\"管理費\",\"備考\"]\n",
    "df_roomPrices=pd.DataFrame(roomPrices,columns=columns_roomPrices).drop(columns=\"備考\") #余計な情報（備考）がついてくるので作ってすぐ消す"
   ]
  },
  {
   "cell_type": "code",
   "execution_count": 84,
   "id": "a6b556b7-eeb3-4d8b-8cec-2d9ab10ea10b",
   "metadata": {
    "tags": []
   },
   "outputs": [],
   "source": [
    "#それぞれのdfをまとめて一つのdfに\n",
    "df=pd.concat([df_roomNames,df_roomPrices,df_roomAreas],axis=1)"
   ]
  },
  {
   "cell_type": "markdown",
   "id": "c387de04-6d23-4150-b045-05fa5ffc535c",
   "metadata": {},
   "source": [
    "▼dfがまとまったのを確認してcsvに出力。スプシに直接出力しても良いけど自分専用ではないので今回はcsvにする。"
   ]
  },
  {
   "cell_type": "code",
   "execution_count": 86,
   "id": "a0258ffa-1f73-4070-b8ad-14cb91ae1838",
   "metadata": {
    "scrolled": true,
    "tags": []
   },
   "outputs": [],
   "source": [
    "#csvに出力\n",
    "df.to_csv(\"output.csv\",index=False)\n"
   ]
  },
  {
   "cell_type": "code",
   "execution_count": null,
   "id": "fb8f042f-cc40-42a0-8359-93197cbc80ee",
   "metadata": {},
   "outputs": [],
   "source": []
  }
 ],
 "metadata": {
  "kernelspec": {
   "display_name": "Python 3 (ipykernel)",
   "language": "python",
   "name": "python3"
  },
  "language_info": {
   "codemirror_mode": {
    "name": "ipython",
    "version": 3
   },
   "file_extension": ".py",
   "mimetype": "text/x-python",
   "name": "python",
   "nbconvert_exporter": "python",
   "pygments_lexer": "ipython3",
   "version": "3.9.13"
  }
 },
 "nbformat": 4,
 "nbformat_minor": 5
}
